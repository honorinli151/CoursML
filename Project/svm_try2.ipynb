{
 "cells": [
  {
   "cell_type": "code",
   "execution_count": 1,
   "metadata": {},
   "outputs": [],
   "source": [
    "\n",
    "import numpy as np\n",
    "import pandas as pd\n",
    "from sklearn.feature_extraction.text import TfidfVectorizer\n",
    "from sklearn.preprocessing import LabelEncoder\n",
    "from sklearn.linear_model import LogisticRegression\n",
    "from sklearn.naive_bayes import MultinomialNB\n",
    "from sklearn.model_selection import cross_val_score\n",
    "from sklearn import svm"
   ]
  },
  {
   "cell_type": "code",
   "execution_count": 2,
   "metadata": {},
   "outputs": [],
   "source": [
    "train, test = pd.read_csv(\"train.csv\"), pd.read_csv(\"test.csv\")\n",
    "IDs = test['id']\n",
    "X_train, X_test = train['comment_text'], test['comment_text']\n",
    "X_test.loc[X_test.isnull()] = \" \" # replace the 1 NaN value in test\n",
    "Y_train = train[train.columns[2:]]"
   ]
  },
  {
   "cell_type": "code",
   "execution_count": null,
   "metadata": {},
   "outputs": [],
   "source": [
    "del train\n",
    "del test\n",
    "\n",
    "print(\"%.2f of data is not flagged\" % (Y_train.loc[(Y_train.sum(axis=1) == 0)].shape[0] / Y_train.shape[0]))\n",
    "\n",
    "tfv = TfidfVectorizer(min_df=3, max_df=0.9, max_features=None, strip_accents='unicode',\\\n",
    "               analyzer='word', token_pattern=r'\\w{1,}', ngram_range=(1,2), use_idf=1,\\\n",
    "               smooth_idf=1, sublinear_tf=1, stop_words='english')\n",
    "print(\"tfidf-vectorizing train ...\")\n",
    "tfv.fit(X_train)\n",
    "X_train = tfv.transform(X_train)\n",
    "print(\"tfidf-vectorizing test ...\")\n",
    "X_test = tfv.transform(X_test)"
   ]
  },
  {
   "cell_type": "code",
   "execution_count": null,
   "metadata": {},
   "outputs": [],
   "source": [
    "print(\"fitting log reg & reporting cv accuracy ...\")\n",
    "n,q=X_test.shape\n",
    "m,p=Y_train.shape\n",
    "labels_predicted=np.zeros((n,p))\n",
    "for i in range(Y_train.shape[1]):\n",
    "    feature = Y_train.columns[i]\n",
    "    print(\"\\n%s:\" % feature)\n",
    "    print(\"Baseline: %.2f\" % (Y_train.iloc[:,i].sum() / Y_train.shape[0]))\n",
    "    clf = svm.LinearSVC()\n",
    "    clf.fit(X_train, Y_train.iloc[:,i])\n",
    "    labels_predicted[:,i] = clf.predict(X_test) \n",
    "    print(cross_val_score(clf, X_train, Y_train.iloc[:,i], cv=3, scoring='f1'))\n",
    "list_classes = [\"toxic\", \"severe_toxic\", \"obscene\", \"threat\", \"insult\", \"identity_hate\"]\n",
    "sample_submission = pd.read_csv('sample_submission.csv')\n",
    "sample_submission[list_classes] = labels_predicted\n",
    "sample_submission.to_csv('submission.csv', index=False)"
   ]
  },
  {
   "cell_type": "code",
   "execution_count": null,
   "metadata": {},
   "outputs": [],
   "source": []
  }
 ],
 "metadata": {
  "kernelspec": {
   "display_name": "Python 3",
   "language": "python",
   "name": "python3"
  },
  "language_info": {
   "codemirror_mode": {
    "name": "ipython",
    "version": 3
   },
   "file_extension": ".py",
   "mimetype": "text/x-python",
   "name": "python",
   "nbconvert_exporter": "python",
   "pygments_lexer": "ipython3",
   "version": "3.6.4"
  }
 },
 "nbformat": 4,
 "nbformat_minor": 2
}
